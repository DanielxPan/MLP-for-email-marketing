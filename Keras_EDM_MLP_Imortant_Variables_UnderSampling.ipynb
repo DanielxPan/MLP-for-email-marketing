{
 "cells": [
  {
   "cell_type": "markdown",
   "metadata": {
    "slideshow": {
     "slide_type": "-"
    }
   },
   "source": [
    "# 1. Import Library"
   ]
  },
  {
   "cell_type": "code",
   "execution_count": 1,
   "metadata": {
    "slideshow": {
     "slide_type": "-"
    }
   },
   "outputs": [],
   "source": [
    "import numpy\n",
    "import pandas as pd\n",
    "from sklearn import preprocessing\n",
    "numpy.random.seed(10)"
   ]
  },
  {
   "cell_type": "markdown",
   "metadata": {
    "collapsed": true
   },
   "source": [
    "# 2.Data Process"
   ]
  },
  {
   "cell_type": "code",
   "execution_count": 116,
   "metadata": {},
   "outputs": [],
   "source": [
    "all_df = pd.read_csv(\"data/10.EDM_SUM_TRVL_SAMPLE_OS.csv\")"
   ]
  },
  {
   "cell_type": "code",
   "execution_count": 117,
   "metadata": {},
   "outputs": [],
   "source": [
    "cols=[\n",
    "'SENT_RESPOND_IND',\n",
    "'RK_YEAR',\n",
    "'YEAR',\n",
    "'Pty_Gndr_Cd',\n",
    "'Pty_New_Cust_Ind',\n",
    "'Pty_Cffp_Ind',\n",
    "'FFP_IND',\n",
    "'Ffp_Star_Carr_Ind',\n",
    "'RES_LAST_REGION_CD',\n",
    "'FLY_LAST_REGION_CD',\n",
    "'FFP_Cr_Card_Vld_Ind',\n",
    "'FLY_LAST_DAY_CNT',\n",
    "'Fln_3Y_Cffp_Fln_Cnt',\n",
    "'Fln_Avg_Fln_Freq_Msr',\n",
    "'Tvl_3Y_Avg_Acmp_Cnt',\n",
    "'Tvl_3Y_CHN_Fln_Cnt',\n",
    "'Tvl_3Y_EU_Fln_Cnt',\n",
    "'Tvl_3Y_HKMC_Fln_Cnt',\n",
    "'Tvl_3Y_Holiday_Cnt',\n",
    "'Tvl_3Y_JK_Fln_Cnt',\n",
    "'Tvl_3Y_LH_Fln_Cnt',\n",
    "'Tvl_3Y_NA_Fln_Cnt',\n",
    "'Tvl_3Y_Pmt_Cnt',\n",
    "'Tvl_3Y_SEA_Fln_Cnt',\n",
    "'Tvl_3Y_SH_Fln_Cnt',\n",
    "'Tvl_3Y_SWP_Fln_Cnt',\n",
    "'Tvl_Avg_Pln_Day_Cnt',\n",
    "'Pty_Age_Msr',\n",
    "'RES_LAST_DAY_CNT',\n",
    "'RES_LAST_TVL_PLN_DAY_CNT',\n",
    "'Res_3Yr_Offline_Cnt',\n",
    "'Res_3Yr_Online_Cnt'\n",
    "]\n",
    "all_df=all_df[cols]"
   ]
  },
  {
   "cell_type": "code",
   "execution_count": 118,
   "metadata": {},
   "outputs": [],
   "source": [
    "all_df['Pty_Gndr_Cd'] = all_df['Pty_Gndr_Cd'].str.replace('M','1')\n",
    "all_df['Pty_Gndr_Cd'] = all_df['Pty_Gndr_Cd'].str.replace('F','0')"
   ]
  },
  {
   "cell_type": "code",
   "execution_count": 119,
   "metadata": {},
   "outputs": [],
   "source": [
    "all_df['Pty_Gndr_Cd'] = all_df['Pty_Gndr_Cd'].astype(int)\n",
    "all_df['Pty_New_Cust_Ind'] = all_df['Pty_New_Cust_Ind'].astype(int)\n",
    "all_df['Pty_Cffp_Ind'] = all_df['Pty_Cffp_Ind'].astype(int)\n",
    "all_df['FFP_IND'] = all_df['FFP_IND'].astype(int)\n",
    "all_df['Ffp_Star_Carr_Ind'] = all_df['Ffp_Star_Carr_Ind'].astype(int)\n",
    "all_df['FFP_Cr_Card_Vld_Ind'] = all_df['FFP_Cr_Card_Vld_Ind'].astype(int)"
   ]
  },
  {
   "cell_type": "markdown",
   "metadata": {},
   "source": [
    "## 2-1.Split Training and Test DataSet"
   ]
  },
  {
   "cell_type": "code",
   "execution_count": 120,
   "metadata": {},
   "outputs": [],
   "source": [
    "msk = numpy.random.rand(len(all_df)) < 0.8 #len(all_df)即為資料筆數\n",
    "train_df = all_df[msk]\n",
    "test_df = all_df[~msk]"
   ]
  },
  {
   "cell_type": "code",
   "execution_count": 121,
   "metadata": {},
   "outputs": [
    {
     "name": "stdout",
     "output_type": "stream",
     "text": [
      "total: 1480620 train: 1184231 test: 296389\n"
     ]
    }
   ],
   "source": [
    "print('total:',len(all_df),\n",
    "      'train:',len(train_df),\n",
    "      'test:',len(test_df))"
   ]
  },
  {
   "cell_type": "markdown",
   "metadata": {},
   "source": [
    "## 2-2.Get Dummies/ One-Hot-Encdoing/ Transform"
   ]
  },
  {
   "cell_type": "code",
   "execution_count": 122,
   "metadata": {},
   "outputs": [],
   "source": [
    "def PreprocessData(raw_df):\n",
    "    df=raw_df.drop(['RK_YEAR',\n",
    "                    'YEAR',\n",
    "                    'Pty_Gndr_Cd',\n",
    "                    'Pty_New_Cust_Ind',\n",
    "                    'Pty_Cffp_Ind',\n",
    "                    'Ffp_Star_Carr_Ind',\n",
    "                    'FFP_Cr_Card_Vld_Ind',\n",
    "                    'Fln_3Y_Cffp_Fln_Cnt',\n",
    "                    'Tvl_3Y_Avg_Acmp_Cnt',\n",
    "                    'Tvl_3Y_EU_Fln_Cnt',\n",
    "                    'Tvl_3Y_LH_Fln_Cnt',\n",
    "                    'Tvl_3Y_NA_Fln_Cnt',\n",
    "                    'Tvl_3Y_SEA_Fln_Cnt',\n",
    "                    'Tvl_3Y_SH_Fln_Cnt',\n",
    "                    'Pty_Age_Msr',\n",
    "                    'Res_3Yr_Offline_Cnt',\n",
    "                    'Tvl_3Y_CHN_Fln_Cnt',\n",
    "                    'Tvl_3Y_EU_Fln_Cnt',\n",
    "                    'Tvl_3Y_HKMC_Fln_Cnt',\n",
    "                    'Tvl_3Y_JK_Fln_Cnt',\n",
    "                    'Tvl_3Y_LH_Fln_Cnt',\n",
    "                    'Tvl_3Y_NA_Fln_Cnt',\n",
    "                    'Tvl_3Y_SEA_Fln_Cnt',\n",
    "                    'Tvl_3Y_SH_Fln_Cnt',\n",
    "                    'Tvl_3Y_SWP_Fln_Cnt'\n",
    "                   ],axis=1)\n",
    "    x_OneHot_df = pd.get_dummies(data=df,columns=['RES_LAST_REGION_CD','FLY_LAST_REGION_CD'])\n",
    "\n",
    "    ndarray = x_OneHot_df.values\n",
    "    Features = ndarray[:,1:]\n",
    "    Label = ndarray[:,0]\n",
    "\n",
    "    minmax_scale = preprocessing.MinMaxScaler(feature_range=(0, 1))\n",
    "    scaledFeatures=minmax_scale.fit_transform(Features)    \n",
    "    \n",
    "    return scaledFeatures,Label"
   ]
  },
  {
   "cell_type": "code",
   "execution_count": 123,
   "metadata": {},
   "outputs": [],
   "source": [
    "train_Features,train_Label=PreprocessData(train_df)\n",
    "test_Features,test_Label=PreprocessData(test_df)"
   ]
  },
  {
   "cell_type": "code",
   "execution_count": 124,
   "metadata": {},
   "outputs": [
    {
     "data": {
      "text/plain": [
       "(1184231, 26)"
      ]
     },
     "execution_count": 124,
     "metadata": {},
     "output_type": "execute_result"
    }
   ],
   "source": [
    "train_Features.shape"
   ]
  },
  {
   "cell_type": "code",
   "execution_count": 125,
   "metadata": {
    "scrolled": true
   },
   "outputs": [
    {
     "data": {
      "text/plain": [
       "(296389, 26)"
      ]
     },
     "execution_count": 125,
     "metadata": {},
     "output_type": "execute_result"
    }
   ],
   "source": [
    "test_Features.shape"
   ]
  },
  {
   "cell_type": "markdown",
   "metadata": {},
   "source": [
    "# 3. Create Model "
   ]
  },
  {
   "cell_type": "code",
   "execution_count": null,
   "metadata": {},
   "outputs": [],
   "source": [
    "# 調整隱藏神經元數準則\n",
    "# https://stackoverflow.com/questions/59176595/validation-accuracy-fluctuating-while-training-accuracy-increase"
   ]
  },
  {
   "cell_type": "code",
   "execution_count": 90,
   "metadata": {
    "scrolled": true
   },
   "outputs": [],
   "source": [
    "from keras.models import Sequential\n",
    "from keras.layers import Dense,Dropout\n",
    "from keras import optimizers"
   ]
  },
  {
   "cell_type": "code",
   "execution_count": 126,
   "metadata": {},
   "outputs": [],
   "source": [
    "model = Sequential()"
   ]
  },
  {
   "cell_type": "code",
   "execution_count": 127,
   "metadata": {},
   "outputs": [],
   "source": [
    "model.add(Dense(units=5, #隱藏層為20\n",
    "                input_dim=2, #輸入層的神經元有28個\n",
    "                kernel_initializer='uniform', \n",
    "                activation='relu'))"
   ]
  },
  {
   "cell_type": "code",
   "execution_count": 128,
   "metadata": {
    "scrolled": true
   },
   "outputs": [],
   "source": [
    "model.add(Dropout(0.5))"
   ]
  },
  {
   "cell_type": "code",
   "execution_count": 129,
   "metadata": {},
   "outputs": [],
   "source": [
    "model.add(Dense(units=1, \n",
    "                kernel_initializer='uniform',\n",
    "                activation='sigmoid'))"
   ]
  },
  {
   "cell_type": "code",
   "execution_count": 52,
   "metadata": {},
   "outputs": [],
   "source": [
    "#model.add(Dense(units=30, \n",
    "                #kernel_initializer='uniform', \n",
    "                #activation='relu'))"
   ]
  },
  {
   "cell_type": "code",
   "execution_count": 53,
   "metadata": {},
   "outputs": [],
   "source": [
    "#model.add(Dropout(0.5))"
   ]
  },
  {
   "cell_type": "code",
   "execution_count": 130,
   "metadata": {},
   "outputs": [
    {
     "name": "stdout",
     "output_type": "stream",
     "text": [
      "_________________________________________________________________\n",
      "Layer (type)                 Output Shape              Param #   \n",
      "=================================================================\n",
      "dense_15 (Dense)             (None, 5)                 135       \n",
      "_________________________________________________________________\n",
      "dropout_8 (Dropout)          (None, 5)                 0         \n",
      "_________________________________________________________________\n",
      "dense_16 (Dense)             (None, 1)                 6         \n",
      "=================================================================\n",
      "Total params: 141\n",
      "Trainable params: 141\n",
      "Non-trainable params: 0\n",
      "_________________________________________________________________\n",
      "None\n"
     ]
    }
   ],
   "source": [
    "print(model.summary())"
   ]
  },
  {
   "cell_type": "markdown",
   "metadata": {},
   "source": [
    "# 4. Train model"
   ]
  },
  {
   "cell_type": "code",
   "execution_count": null,
   "metadata": {},
   "outputs": [],
   "source": [
    "# Optimizer Setting\n",
    "# https://keras.io/zh/optimizers/"
   ]
  },
  {
   "cell_type": "code",
   "execution_count": 131,
   "metadata": {},
   "outputs": [],
   "source": [
    "sgd = optimizers.SGD(lr=0.03, decay=1e-6, momentum=0.9, nesterov=True)"
   ]
  },
  {
   "cell_type": "code",
   "execution_count": 132,
   "metadata": {},
   "outputs": [],
   "source": [
    "model.compile(loss='binary_crossentropy', \n",
    "              #optimizer='adam',\n",
    "              optimizer='SGD',\n",
    "              metrics=['accuracy'])"
   ]
  },
  {
   "cell_type": "code",
   "execution_count": 133,
   "metadata": {
    "scrolled": false
   },
   "outputs": [
    {
     "name": "stdout",
     "output_type": "stream",
     "text": [
      "Train on 947384 samples, validate on 236847 samples\n",
      "Epoch 1/60\n",
      " - 14s - loss: 0.6525 - acc: 0.6381 - val_loss: 0.9002 - val_acc: 0.1316\n",
      "Epoch 2/60\n",
      " - 13s - loss: 0.6098 - acc: 0.6840 - val_loss: 0.8211 - val_acc: 0.3111\n",
      "Epoch 3/60\n",
      " - 15s - loss: 0.5802 - acc: 0.6960 - val_loss: 0.7655 - val_acc: 0.4212\n",
      "Epoch 4/60\n",
      " - 14s - loss: 0.5604 - acc: 0.7009 - val_loss: 0.7365 - val_acc: 0.4835\n",
      "Epoch 5/60\n",
      " - 13s - loss: 0.5442 - acc: 0.7150 - val_loss: 0.7177 - val_acc: 0.5236\n",
      "Epoch 6/60\n",
      " - 12s - loss: 0.5287 - acc: 0.7340 - val_loss: 0.7009 - val_acc: 0.5582\n",
      "Epoch 7/60\n",
      " - 13s - loss: 0.5178 - acc: 0.7401 - val_loss: 0.6778 - val_acc: 0.5930\n",
      "Epoch 8/60\n",
      " - 12s - loss: 0.5114 - acc: 0.7437 - val_loss: 0.6718 - val_acc: 0.6060\n",
      "Epoch 9/60\n",
      " - 12s - loss: 0.5062 - acc: 0.7462 - val_loss: 0.7097 - val_acc: 0.5881\n",
      "Epoch 10/60\n",
      " - 12s - loss: 0.5038 - acc: 0.7466 - val_loss: 0.7064 - val_acc: 0.5960\n",
      "Epoch 11/60\n",
      " - 12s - loss: 0.5017 - acc: 0.7472 - val_loss: 0.6567 - val_acc: 0.6360\n",
      "Epoch 12/60\n",
      " - 13s - loss: 0.4995 - acc: 0.7479 - val_loss: 0.6758 - val_acc: 0.6416\n",
      "Epoch 13/60\n",
      " - 13s - loss: 0.4983 - acc: 0.7476 - val_loss: 0.6489 - val_acc: 0.6529\n",
      "Epoch 14/60\n",
      " - 12s - loss: 0.4968 - acc: 0.7487 - val_loss: 0.6488 - val_acc: 0.6559\n",
      "Epoch 15/60\n",
      " - 18s - loss: 0.4965 - acc: 0.7476 - val_loss: 0.6635 - val_acc: 0.6582\n",
      "Epoch 16/60\n",
      " - 19s - loss: 0.4953 - acc: 0.7481 - val_loss: 0.6727 - val_acc: 0.6460\n",
      "Epoch 17/60\n",
      " - 15s - loss: 0.4940 - acc: 0.7483 - val_loss: 0.6804 - val_acc: 0.6462\n",
      "Epoch 18/60\n",
      " - 13s - loss: 0.4934 - acc: 0.7485 - val_loss: 0.6597 - val_acc: 0.6526\n",
      "Epoch 19/60\n",
      " - 13s - loss: 0.4930 - acc: 0.7482 - val_loss: 0.6746 - val_acc: 0.6571\n",
      "Epoch 20/60\n",
      " - 14s - loss: 0.4923 - acc: 0.7485 - val_loss: 0.6658 - val_acc: 0.6606\n",
      "Epoch 21/60\n",
      " - 13s - loss: 0.4919 - acc: 0.7485 - val_loss: 0.6410 - val_acc: 0.6817\n",
      "Epoch 22/60\n",
      " - 13s - loss: 0.4922 - acc: 0.7477 - val_loss: 0.6525 - val_acc: 0.6592\n",
      "Epoch 23/60\n",
      " - 13s - loss: 0.4913 - acc: 0.7486 - val_loss: 0.6246 - val_acc: 0.6791\n",
      "Epoch 24/60\n",
      " - 12s - loss: 0.4915 - acc: 0.7481 - val_loss: 0.6499 - val_acc: 0.6722\n",
      "Epoch 25/60\n",
      " - 13s - loss: 0.4907 - acc: 0.7484 - val_loss: 0.6473 - val_acc: 0.6636\n",
      "Epoch 26/60\n",
      " - 13s - loss: 0.4907 - acc: 0.7485 - val_loss: 0.6292 - val_acc: 0.6946\n",
      "Epoch 27/60\n",
      " - 13s - loss: 0.4904 - acc: 0.7484 - val_loss: 0.6785 - val_acc: 0.6502\n",
      "Epoch 28/60\n",
      " - 13s - loss: 0.4901 - acc: 0.7487 - val_loss: 0.6515 - val_acc: 0.6645\n",
      "Epoch 29/60\n",
      " - 13s - loss: 0.4902 - acc: 0.7481 - val_loss: 0.6515 - val_acc: 0.6739\n",
      "Epoch 30/60\n",
      " - 14s - loss: 0.4898 - acc: 0.7480 - val_loss: 0.6274 - val_acc: 0.6898\n",
      "Epoch 31/60\n",
      " - 15s - loss: 0.4898 - acc: 0.7482 - val_loss: 0.6795 - val_acc: 0.6324\n",
      "Epoch 32/60\n",
      " - 17s - loss: 0.4894 - acc: 0.7483 - val_loss: 0.6697 - val_acc: 0.6468\n",
      "Epoch 33/60\n",
      " - 15s - loss: 0.4903 - acc: 0.7483 - val_loss: 0.6204 - val_acc: 0.6964\n",
      "Epoch 34/60\n",
      " - 16s - loss: 0.4895 - acc: 0.7484 - val_loss: 0.6677 - val_acc: 0.6272\n",
      "Epoch 35/60\n",
      " - 14s - loss: 0.4896 - acc: 0.7479 - val_loss: 0.6394 - val_acc: 0.6616\n",
      "Epoch 36/60\n",
      " - 14s - loss: 0.4890 - acc: 0.7486 - val_loss: 0.6393 - val_acc: 0.6797\n",
      "Epoch 37/60\n",
      " - 13s - loss: 0.4894 - acc: 0.7488 - val_loss: 0.6358 - val_acc: 0.6679\n",
      "Epoch 38/60\n",
      " - 17s - loss: 0.4893 - acc: 0.7483 - val_loss: 0.6715 - val_acc: 0.6477\n",
      "Epoch 39/60\n",
      " - 15s - loss: 0.4891 - acc: 0.7483 - val_loss: 0.6517 - val_acc: 0.6533\n",
      "Epoch 40/60\n",
      " - 19s - loss: 0.4890 - acc: 0.7482 - val_loss: 0.6386 - val_acc: 0.6612\n",
      "Epoch 41/60\n",
      " - 19s - loss: 0.4893 - acc: 0.7482 - val_loss: 0.6428 - val_acc: 0.6527\n",
      "Epoch 42/60\n",
      " - 18s - loss: 0.4890 - acc: 0.7482 - val_loss: 0.6369 - val_acc: 0.6551\n",
      "Epoch 43/60\n",
      " - 18s - loss: 0.4893 - acc: 0.7481 - val_loss: 0.6727 - val_acc: 0.6434\n",
      "Epoch 44/60\n",
      " - 13s - loss: 0.4887 - acc: 0.7484 - val_loss: 0.6512 - val_acc: 0.6509\n",
      "Epoch 45/60\n",
      " - 13s - loss: 0.4891 - acc: 0.7485 - val_loss: 0.6088 - val_acc: 0.7250\n",
      "Epoch 46/60\n",
      " - 13s - loss: 0.4886 - acc: 0.7482 - val_loss: 0.6363 - val_acc: 0.6434\n",
      "Epoch 47/60\n",
      " - 13s - loss: 0.4884 - acc: 0.7484 - val_loss: 0.6672 - val_acc: 0.6189\n",
      "Epoch 48/60\n",
      " - 13s - loss: 0.4883 - acc: 0.7486 - val_loss: 0.6534 - val_acc: 0.6529\n",
      "Epoch 49/60\n",
      " - 14s - loss: 0.4887 - acc: 0.7482 - val_loss: 0.6477 - val_acc: 0.6521\n",
      "Epoch 50/60\n",
      " - 14s - loss: 0.4883 - acc: 0.7486 - val_loss: 0.6399 - val_acc: 0.6607\n",
      "Epoch 51/60\n",
      " - 14s - loss: 0.4883 - acc: 0.7486 - val_loss: 0.6439 - val_acc: 0.6616\n",
      "Epoch 52/60\n",
      " - 13s - loss: 0.4892 - acc: 0.7484 - val_loss: 0.6493 - val_acc: 0.6736\n",
      "Epoch 53/60\n",
      " - 14s - loss: 0.4887 - acc: 0.7484 - val_loss: 0.6188 - val_acc: 0.6805\n",
      "Epoch 54/60\n",
      " - 12s - loss: 0.4885 - acc: 0.7487 - val_loss: 0.6140 - val_acc: 0.6791\n",
      "Epoch 55/60\n",
      " - 13s - loss: 0.4880 - acc: 0.7485 - val_loss: 0.6263 - val_acc: 0.6520\n",
      "Epoch 56/60\n",
      " - 14s - loss: 0.4879 - acc: 0.7486 - val_loss: 0.6263 - val_acc: 0.6881\n",
      "Epoch 57/60\n",
      " - 23s - loss: 0.4881 - acc: 0.7490 - val_loss: 0.6076 - val_acc: 0.6894\n",
      "Epoch 58/60\n",
      " - 28s - loss: 0.4881 - acc: 0.7485 - val_loss: 0.6482 - val_acc: 0.6364\n",
      "Epoch 59/60\n",
      " - 15s - loss: 0.4876 - acc: 0.7489 - val_loss: 0.6427 - val_acc: 0.6621\n",
      "Epoch 60/60\n",
      " - 13s - loss: 0.4879 - acc: 0.7486 - val_loss: 0.6320 - val_acc: 0.6518\n"
     ]
    }
   ],
   "source": [
    "train_history =model.fit(x=train_Features, \n",
    "                         y=train_Label, \n",
    "                         validation_split=0.2, \n",
    "                         epochs=60, \n",
    "                         batch_size=100, #多少個樣本疊代一次\n",
    "                         verbose=2)"
   ]
  },
  {
   "cell_type": "markdown",
   "metadata": {},
   "source": [
    "# 5. Print History"
   ]
  },
  {
   "cell_type": "code",
   "execution_count": 134,
   "metadata": {},
   "outputs": [],
   "source": [
    "import matplotlib.pyplot as plt\n",
    "def show_train_history(train_history,train,validation):\n",
    "    plt.plot(train_history.history[train])\n",
    "    plt.plot(train_history.history[validation])\n",
    "    plt.title('Train History')\n",
    "    plt.ylabel(train)\n",
    "    plt.xlabel('Epoch')\n",
    "    plt.legend(['train', 'validation'], loc='upper left')\n",
    "    plt.show()"
   ]
  },
  {
   "cell_type": "code",
   "execution_count": 135,
   "metadata": {
    "scrolled": true
   },
   "outputs": [
    {
     "data": {
      "image/png": "[encoded data removed]",
      "text/plain": [
       "<Figure size 432x288 with 1 Axes>"
      ]
     },
     "metadata": {},
     "output_type": "display_data"
    }
   ],
   "source": [
    "show_train_history(train_history,'acc','val_acc')"
   ]
  },
  {
   "cell_type": "code",
   "execution_count": 136,
   "metadata": {
    "scrolled": true
   },
   "outputs": [
    {
     "data": {
      "image/png": "[encoded data removed]",
      "text/plain": [
       "<Figure size 432x288 with 1 Axes>"
      ]
     },
     "metadata": {},
     "output_type": "display_data"
    }
   ],
   "source": [
    "show_train_history(train_history,'loss','val_loss')"
   ]
  },
  {
   "cell_type": "markdown",
   "metadata": {},
   "source": [
    "# 6.Model Evaluation and Accuracy"
   ]
  },
  {
   "cell_type": "code",
   "execution_count": 137,
   "metadata": {
    "scrolled": true
   },
   "outputs": [
    {
     "name": "stdout",
     "output_type": "stream",
     "text": [
      "296389/296389 [==============================] - 5s 16us/step\n"
     ]
    }
   ],
   "source": [
    "scores = model.evaluate(x=test_Features, \n",
    "                        y=test_Label)"
   ]
  },
  {
   "cell_type": "code",
   "execution_count": 138,
   "metadata": {},
   "outputs": [
    {
     "data": {
      "text/plain": [
       "0.7635101167722149"
      ]
     },
     "execution_count": 138,
     "metadata": {},
     "output_type": "execute_result"
    }
   ],
   "source": [
    "scores[1]"
   ]
  },
  {
   "cell_type": "markdown",
   "metadata": {},
   "source": [
    "# 7.Build Confusion Matrix"
   ]
  },
  {
   "cell_type": "code",
   "execution_count": 34,
   "metadata": {},
   "outputs": [],
   "source": [
    "all_features,Label = PreprocessData(all_df)"
   ]
  },
  {
   "cell_type": "code",
   "execution_count": 35,
   "metadata": {
    "scrolled": false
   },
   "outputs": [
    {
     "data": {
      "text/plain": [
       "(1480620, 30)"
      ]
     },
     "execution_count": 35,
     "metadata": {},
     "output_type": "execute_result"
    }
   ],
   "source": [
    "all_features.shape"
   ]
  },
  {
   "cell_type": "code",
   "execution_count": 36,
   "metadata": {},
   "outputs": [
    {
     "data": {
      "text/plain": [
       "array([[1.        , 0.00219298, 0.15924092, 0.        , 0.08571429,\n",
       "        0.        , 0.        , 0.00442589, 0.67105263, 0.0960961 ,\n",
       "        0.09281437, 0.06      , 0.01886792, 0.        , 0.        ,\n",
       "        1.        , 0.        , 0.        , 0.        , 0.        ,\n",
       "        0.        , 0.        , 0.        , 0.        , 1.        ,\n",
       "        0.        , 0.        , 0.        , 0.        , 0.        ],\n",
       "       [1.        , 0.0372807 , 0.90717822, 0.        , 0.        ,\n",
       "        0.        , 0.13333333, 0.00110022, 0.75      , 0.10510511,\n",
       "        0.04191617, 0.04      , 0.        , 0.        , 0.        ,\n",
       "        0.        , 1.        , 0.        , 0.        , 0.        ,\n",
       "        0.        , 0.        , 0.        , 0.        , 0.        ,\n",
       "        0.        , 0.        , 0.        , 0.        , 1.        ]])"
      ]
     },
     "execution_count": 36,
     "metadata": {},
     "output_type": "execute_result"
    }
   ],
   "source": [
    "all_features[:2]"
   ]
  },
  {
   "cell_type": "code",
   "execution_count": 37,
   "metadata": {},
   "outputs": [],
   "source": [
    "all_prediction=model.predict_classes(all_features)\n",
    "all_probability = model.predict(all_features)"
   ]
  },
  {
   "cell_type": "code",
   "execution_count": 38,
   "metadata": {
    "scrolled": true
   },
   "outputs": [
    {
     "data": {
      "text/plain": [
       "array([0., 0.])"
      ]
     },
     "execution_count": 38,
     "metadata": {},
     "output_type": "execute_result"
    }
   ],
   "source": [
    "Label[:2]"
   ]
  },
  {
   "cell_type": "code",
   "execution_count": 39,
   "metadata": {
    "scrolled": false
   },
   "outputs": [
    {
     "data": {
      "text/html": [
       "<div>\n",
       "<style scoped>\n",
       "    .dataframe tbody tr th:only-of-type {\n",
       "        vertical-align: middle;\n",
       "    }\n",
       "\n",
       "    .dataframe tbody tr th {\n",
       "        vertical-align: top;\n",
       "    }\n",
       "\n",
       "    .dataframe thead th {\n",
       "        text-align: right;\n",
       "    }\n",
       "</style>\n",
       "<table border=\"1\" class=\"dataframe\">\n",
       "  <thead>\n",
       "    <tr style=\"text-align: right;\">\n",
       "      <th>predict</th>\n",
       "      <th>0</th>\n",
       "      <th>1</th>\n",
       "    </tr>\n",
       "    <tr>\n",
       "      <th>label</th>\n",
       "      <th></th>\n",
       "      <th></th>\n",
       "    </tr>\n",
       "  </thead>\n",
       "  <tbody>\n",
       "    <tr>\n",
       "      <th>0.0</th>\n",
       "      <td>611927</td>\n",
       "      <td>128383</td>\n",
       "    </tr>\n",
       "    <tr>\n",
       "      <th>1.0</th>\n",
       "      <td>163935</td>\n",
       "      <td>576375</td>\n",
       "    </tr>\n",
       "  </tbody>\n",
       "</table>\n",
       "</div>"
      ],
      "text/plain": [
       "predict       0       1\n",
       "label                  \n",
       "0.0      611927  128383\n",
       "1.0      163935  576375"
      ]
     },
     "execution_count": 39,
     "metadata": {},
     "output_type": "execute_result"
    }
   ],
   "source": [
    "pd.crosstab(Label,all_prediction.reshape(-1),\n",
    "            rownames=['label'],colnames=['predict'])"
   ]
  },
  {
   "cell_type": "code",
   "execution_count": 40,
   "metadata": {},
   "outputs": [],
   "source": [
    "result=all_df #先把原始資料集喚回"
   ]
  },
  {
   "cell_type": "code",
   "execution_count": 41,
   "metadata": {},
   "outputs": [],
   "source": [
    "result.insert(2, #插入位置\n",
    "          'probability',all_probability) #再把剛剛兩個欄位名稱/欄位數值加入"
   ]
  },
  {
   "cell_type": "code",
   "execution_count": 42,
   "metadata": {},
   "outputs": [],
   "source": [
    "result.insert(3, #插入位置\n",
    "          'Predict',all_prediction) #再把剛剛兩個欄位名稱/欄位數值加入"
   ]
  },
  {
   "cell_type": "code",
   "execution_count": 43,
   "metadata": {
    "scrolled": false
   },
   "outputs": [
    {
     "data": {
      "text/html": [
       "<div>\n",
       "<style scoped>\n",
       "    .dataframe tbody tr th:only-of-type {\n",
       "        vertical-align: middle;\n",
       "    }\n",
       "\n",
       "    .dataframe tbody tr th {\n",
       "        vertical-align: top;\n",
       "    }\n",
       "\n",
       "    .dataframe thead th {\n",
       "        text-align: right;\n",
       "    }\n",
       "</style>\n",
       "<table border=\"1\" class=\"dataframe\">\n",
       "  <thead>\n",
       "    <tr style=\"text-align: right;\">\n",
       "      <th></th>\n",
       "      <th>SENT_RESPOND_IND</th>\n",
       "      <th>RK_YEAR</th>\n",
       "      <th>probability</th>\n",
       "      <th>Predict</th>\n",
       "      <th>YEAR</th>\n",
       "      <th>Pty_Gndr_Cd</th>\n",
       "      <th>Pty_New_Cust_Ind</th>\n",
       "      <th>Pty_Cffp_Ind</th>\n",
       "      <th>FFP_IND</th>\n",
       "      <th>Ffp_Star_Carr_Ind</th>\n",
       "      <th>...</th>\n",
       "      <th>Tvl_3Y_Pmt_Cnt</th>\n",
       "      <th>Tvl_3Y_SEA_Fln_Cnt</th>\n",
       "      <th>Tvl_3Y_SH_Fln_Cnt</th>\n",
       "      <th>Tvl_3Y_SWP_Fln_Cnt</th>\n",
       "      <th>Tvl_Avg_Pln_Day_Cnt</th>\n",
       "      <th>Pty_Age_Msr</th>\n",
       "      <th>RES_LAST_DAY_CNT</th>\n",
       "      <th>RES_LAST_TVL_PLN_DAY_CNT</th>\n",
       "      <th>Res_3Yr_Offline_Cnt</th>\n",
       "      <th>Res_3Yr_Online_Cnt</th>\n",
       "    </tr>\n",
       "  </thead>\n",
       "  <tbody>\n",
       "    <tr>\n",
       "      <th>0</th>\n",
       "      <td>0</td>\n",
       "      <td>1000000_2017</td>\n",
       "      <td>0.316801</td>\n",
       "      <td>0</td>\n",
       "      <td>2017</td>\n",
       "      <td>1</td>\n",
       "      <td>0</td>\n",
       "      <td>0</td>\n",
       "      <td>1</td>\n",
       "      <td>0</td>\n",
       "      <td>...</td>\n",
       "      <td>0</td>\n",
       "      <td>0</td>\n",
       "      <td>8</td>\n",
       "      <td>0</td>\n",
       "      <td>45.25</td>\n",
       "      <td>55</td>\n",
       "      <td>33</td>\n",
       "      <td>31</td>\n",
       "      <td>3</td>\n",
       "      <td>1</td>\n",
       "    </tr>\n",
       "    <tr>\n",
       "      <th>1</th>\n",
       "      <td>0</td>\n",
       "      <td>1000004_2017</td>\n",
       "      <td>0.000923</td>\n",
       "      <td>0</td>\n",
       "      <td>2017</td>\n",
       "      <td>0</td>\n",
       "      <td>0</td>\n",
       "      <td>0</td>\n",
       "      <td>1</td>\n",
       "      <td>0</td>\n",
       "      <td>...</td>\n",
       "      <td>0</td>\n",
       "      <td>0</td>\n",
       "      <td>4</td>\n",
       "      <td>0</td>\n",
       "      <td>12.00</td>\n",
       "      <td>61</td>\n",
       "      <td>36</td>\n",
       "      <td>14</td>\n",
       "      <td>2</td>\n",
       "      <td>0</td>\n",
       "    </tr>\n",
       "  </tbody>\n",
       "</table>\n",
       "<p>2 rows × 34 columns</p>\n",
       "</div>"
      ],
      "text/plain": [
       "   SENT_RESPOND_IND       RK_YEAR  probability  Predict  YEAR  Pty_Gndr_Cd  \\\n",
       "0                 0  1000000_2017     0.316801        0  2017            1   \n",
       "1                 0  1000004_2017     0.000923        0  2017            0   \n",
       "\n",
       "   Pty_New_Cust_Ind  Pty_Cffp_Ind  FFP_IND  Ffp_Star_Carr_Ind  \\\n",
       "0                 0             0        1                  0   \n",
       "1                 0             0        1                  0   \n",
       "\n",
       "          ...         Tvl_3Y_Pmt_Cnt Tvl_3Y_SEA_Fln_Cnt  Tvl_3Y_SH_Fln_Cnt  \\\n",
       "0         ...                      0                  0                  8   \n",
       "1         ...                      0                  0                  4   \n",
       "\n",
       "   Tvl_3Y_SWP_Fln_Cnt  Tvl_Avg_Pln_Day_Cnt  Pty_Age_Msr  RES_LAST_DAY_CNT  \\\n",
       "0                   0                45.25           55                33   \n",
       "1                   0                12.00           61                36   \n",
       "\n",
       "   RES_LAST_TVL_PLN_DAY_CNT  Res_3Yr_Offline_Cnt  Res_3Yr_Online_Cnt  \n",
       "0                        31                    3                   1  \n",
       "1                        14                    2                   0  \n",
       "\n",
       "[2 rows x 34 columns]"
      ]
     },
     "execution_count": 43,
     "metadata": {},
     "output_type": "execute_result"
    }
   ],
   "source": [
    "result[:2]"
   ]
  },
  {
   "cell_type": "code",
   "execution_count": 44,
   "metadata": {
    "scrolled": true
   },
   "outputs": [],
   "source": [
    "UnderEstimate = [(result['SENT_RESPOND_IND']==1) \n",
    "                 & (result['Predict']==0)]"
   ]
  },
  {
   "cell_type": "markdown",
   "metadata": {},
   "source": [
    "# 8.Export to CSV"
   ]
  },
  {
   "cell_type": "code",
   "execution_count": 45,
   "metadata": {},
   "outputs": [],
   "source": [
    "export_csv = result.to_csv (r'C:\\Users\\F78001\\Desktop\\Result.csv', index = None, header=True)\n",
    "#Don't forget to add '.csv' at the end of the path"
   ]
  }
 ],
 "metadata": {
  "anaconda-cloud": {},
  "kernelspec": {
   "display_name": "Python 3",
   "language": "python",
   "name": "python3"
  },
  "language_info": {
   "codemirror_mode": {
    "name": "ipython",
    "version": 3
   },
   "file_extension": ".py",
   "mimetype": "text/x-python",
   "name": "python",
   "nbconvert_exporter": "python",
   "pygments_lexer": "ipython3",
   "version": "3.5.5"
  }
 },
 "nbformat": 4,
 "nbformat_minor": 1
}
